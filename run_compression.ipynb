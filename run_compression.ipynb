{
 "cells": [
  {
   "cell_type": "code",
   "execution_count": 1,
   "metadata": {
    "collapsed": true
   },
   "outputs": [],
   "source": [
    "%load_ext autoreload\n",
    "%autoreload 2\n",
    "\n",
    "import numpy as np\n",
    "import matplotlib.pyplot as plt\n",
    "\n",
    "from Thinet import Thinet\n",
    "from DataManager import load_data_from_file"
   ]
  },
  {
   "cell_type": "code",
   "execution_count": 2,
   "metadata": {},
   "outputs": [
    {
     "name": "stdout",
     "output_type": "stream",
     "text": [
      "Conv1 weights:  (5, 5, 3, 64)\n",
      "Conv2 input:  (5000, 12, 12, 64)\n",
      "Conv2 weights:  (5, 5, 64, 64)\n",
      "Conv2 output:  (5000, 12, 12, 64)\n",
      "Loaded 5000 samples\n"
     ]
    }
   ],
   "source": [
    "data = load_data_from_file(r'./data/cifar10_features_5000.npz')"
   ]
  },
  {
   "cell_type": "code",
   "execution_count": 3,
   "metadata": {
    "scrolled": false
   },
   "outputs": [
    {
     "name": "stdout",
     "output_type": "stream",
     "text": [
      "Filters prunned: 1 in 4.582 [s]\n",
      "Filters prunned: 2 in 13.339 [s]\n",
      "Filters prunned: 3 in 26.287 [s]\n",
      "Filters prunned: 4 in 43.365 [s]\n",
      "Filters prunned: 5 in 64.466 [s]\n",
      "Filters prunned: 6 in 89.632 [s]\n",
      "Filters prunned: 7 in 118.616 [s]\n",
      "Filters prunned: 8 in 151.444 [s]\n",
      "Filters prunned: 9 in 187.964 [s]\n",
      "Filters prunned: 10 in 228.059 [s]\n",
      "Filters prunned: 11 in 271.756 [s]\n",
      "Filters prunned: 12 in 318.791 [s]\n",
      "Filters prunned: 13 in 369.097 [s]\n",
      "Filters prunned: 14 in 422.294 [s]\n",
      "Filters prunned: 15 in 478.341 [s]\n",
      "Filters prunned: 16 in 536.991 [s]\n",
      "Filters prunned: 17 in 597.975 [s]\n",
      "Filters prunned: 18 in 661.164 [s]\n",
      "Filters prunned: 19 in 726.433 [s]\n",
      "Filters prunned: 20 in 793.475 [s]\n",
      "Filters prunned: 21 in 862.250 [s]\n",
      "Filters prunned: 22 in 932.925 [s]\n",
      "Filters prunned: 23 in 1004.833 [s]\n",
      "Filters prunned: 24 in 1077.989 [s]\n",
      "Filters prunned: 25 in 1152.159 [s]\n",
      "Filters prunned: 26 in 1227.885 [s]\n",
      "Filters prunned: 27 in 1305.471 [s]\n",
      "Filters prunned: 28 in 1381.811 [s]\n",
      "Filters prunned: 29 in 1460.612 [s]\n",
      "Filters prunned: 30 in 1539.153 [s]\n",
      "Filters prunned: 31 in 1616.289 [s]\n",
      "Filters prunned: 32 in 1693.533 [s]\n"
     ]
    }
   ],
   "source": [
    "input_map  = data['conv2_input']    # (5000,12,12,64)\n",
    "weights    = data['conv2_weights']  # (5,5,3,64)\n",
    "output_map = data['conv2_output']   # (5000,12,12,64)\n",
    "rate       = 0.5\n",
    "num_points = 50\n",
    "\n",
    "thinet = Thinet(input_map, weights, output_map, rate)\n",
    "\n",
    "thinet.compress(num_points)\n",
    "\n",
    "thinet.save_data_to_file('./data/thinet_compression_32.npy')"
   ]
  },
  {
   "cell_type": "code",
   "execution_count": null,
   "metadata": {
    "collapsed": true
   },
   "outputs": [],
   "source": [
    "data_dict = np.load('./data/thinet_compression.npy').item()\n",
    "print(\"Filters to keep: \", data_dict['keep_filters'])\n",
    "print(\"Filters to prune: \", data_dict['remove_filters'])\n",
    "print(data_dict['weights_wo_reconst'].shape)\n",
    "print(data_dict['weights_reconst'].shape)"
   ]
  },
  {
   "cell_type": "code",
   "execution_count": null,
   "metadata": {
    "collapsed": true
   },
   "outputs": [],
   "source": []
  }
 ],
 "metadata": {
  "kernelspec": {
   "display_name": "Python 3",
   "language": "python",
   "name": "python3"
  },
  "language_info": {
   "codemirror_mode": {
    "name": "ipython",
    "version": 3
   },
   "file_extension": ".py",
   "mimetype": "text/x-python",
   "name": "python",
   "nbconvert_exporter": "python",
   "pygments_lexer": "ipython3",
   "version": "3.5.4"
  }
 },
 "nbformat": 4,
 "nbformat_minor": 2
}
