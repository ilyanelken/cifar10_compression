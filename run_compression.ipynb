{
 "cells": [
  {
   "cell_type": "code",
   "execution_count": 2,
   "metadata": {
    "collapsed": true
   },
   "outputs": [],
   "source": [
    "%load_ext autoreload\n",
    "%autoreload 2\n",
    "\n",
    "import numpy as np\n",
    "import matplotlib.pyplot as plt\n",
    "\n",
    "from Thinet import Thinet\n",
    "from DataManager import load_data_from_file"
   ]
  },
  {
   "cell_type": "code",
   "execution_count": 3,
   "metadata": {},
   "outputs": [
    {
     "name": "stdout",
     "output_type": "stream",
     "text": [
      "Conv1 weights:  (5, 5, 3, 64)\n",
      "Conv2 input:  (5000, 12, 12, 64)\n",
      "Conv2 weights:  (5, 5, 64, 64)\n",
      "Conv2 output:  (5000, 12, 12, 64)\n",
      "Loaded 5000 samples\n"
     ]
    }
   ],
   "source": [
    "data = load_data_from_file(r'./data/cifar10_features_5000.npz')"
   ]
  },
  {
   "cell_type": "code",
   "execution_count": 9,
   "metadata": {
    "scrolled": false
   },
   "outputs": [
    {
     "name": "stdout",
     "output_type": "stream",
     "text": [
      "Filters prunned: 1 in 3.755 [s]\n",
      "Filters prunned: 2 in 10.885 [s]\n",
      "Filters prunned: 3 in 21.307 [s]\n",
      "Filters prunned: 4 in 34.992 [s]\n",
      "Filters prunned: 5 in 51.773 [s]\n",
      "Filters prunned: 6 in 71.516 [s]\n",
      "Filters prunned: 7 in 94.236 [s]\n",
      "Filters prunned: 8 in 119.808 [s]\n",
      "Filters prunned: 9 in 148.324 [s]\n",
      "Filters prunned: 10 in 179.512 [s]\n",
      "Filters prunned: 11 in 213.457 [s]\n",
      "Filters prunned: 12 in 249.911 [s]\n",
      "Filters prunned: 13 in 288.801 [s]\n",
      "Filters prunned: 14 in 330.053 [s]\n",
      "Filters prunned: 15 in 373.766 [s]\n",
      "Filters prunned: 16 in 419.824 [s]\n",
      "Saved to: ./data/thinet_compression_48.npy\n",
      "Filters prunned: 1 in 3.763 [s]\n",
      "Filters prunned: 2 in 10.900 [s]\n",
      "Filters prunned: 3 in 21.324 [s]\n",
      "Filters prunned: 4 in 34.995 [s]\n",
      "Filters prunned: 5 in 51.709 [s]\n",
      "Filters prunned: 6 in 71.553 [s]\n",
      "Filters prunned: 7 in 94.260 [s]\n",
      "Filters prunned: 8 in 119.961 [s]\n",
      "Filters prunned: 9 in 148.502 [s]\n",
      "Filters prunned: 10 in 180.222 [s]\n",
      "Filters prunned: 11 in 215.025 [s]\n",
      "Filters prunned: 12 in 251.619 [s]\n",
      "Filters prunned: 13 in 290.755 [s]\n",
      "Filters prunned: 14 in 332.223 [s]\n",
      "Filters prunned: 15 in 375.992 [s]\n",
      "Filters prunned: 16 in 422.118 [s]\n",
      "Filters prunned: 17 in 470.079 [s]\n",
      "Filters prunned: 18 in 519.712 [s]\n",
      "Filters prunned: 19 in 571.105 [s]\n",
      "Filters prunned: 20 in 624.260 [s]\n",
      "Filters prunned: 21 in 679.535 [s]\n",
      "Filters prunned: 22 in 736.088 [s]\n",
      "Filters prunned: 23 in 793.490 [s]\n",
      "Filters prunned: 24 in 851.815 [s]\n",
      "Filters prunned: 25 in 911.491 [s]\n",
      "Filters prunned: 26 in 971.876 [s]\n",
      "Filters prunned: 27 in 1033.220 [s]\n",
      "Filters prunned: 28 in 1095.399 [s]\n",
      "Filters prunned: 29 in 1158.060 [s]\n",
      "Filters prunned: 30 in 1220.336 [s]\n",
      "Filters prunned: 31 in 1282.827 [s]\n",
      "Filters prunned: 32 in 1345.394 [s]\n",
      "Saved to: ./data/thinet_compression_32.npy\n"
     ]
    }
   ],
   "source": [
    "input_map  = data['conv2_input']    # (5000,12,12,64)\n",
    "weights    = data['conv2_weights']  # (5,5,3,64)\n",
    "output_map = data['conv2_output']   # (5000,12,12,64)\n",
    "#rates      = [0.375, 0.25, 0.125, 0.0625]\n",
    "rates      = [0.75, 0.5]\n",
    "num_points = 50\n",
    "\n",
    "for rate in rates:\n",
    "    thinet = Thinet(input_map, weights, output_map, rate)\n",
    "\n",
    "    thinet.compress(num_points)\n",
    "\n",
    "    output_file = r'./data/thinet_compression_%d.npy' % (rate * 64)\n",
    "    thinet.save_data_to_file(output_file)\n",
    "    print(\"Saved to: %s\" % output_file)"
   ]
  },
  {
   "cell_type": "code",
   "execution_count": 6,
   "metadata": {},
   "outputs": [
    {
     "name": "stdout",
     "output_type": "stream",
     "text": [
      "Filters to keep:  [35, 50, 57, 58]\n",
      "Filters to prune:  [21, 53, 3, 17, 15, 14, 32, 19, 47, 8, 39, 16, 51, 49, 34, 31, 38, 30, 29, 46, 37, 24, 9, 4, 44, 54, 62, 13, 12, 61, 22, 5, 48, 63, 43, 26, 23, 28, 25, 36, 10, 6, 18, 20, 52, 42, 7, 1, 2, 59, 11, 56, 0, 27, 45, 60, 33, 40, 55, 41]\n",
      "(5, 5, 4, 64)\n",
      "(5, 5, 4, 64)\n"
     ]
    }
   ],
   "source": [
    "data_dict = np.load('./data/thinet_compression_4.npy').item()\n",
    "print(\"Filters to keep: \", data_dict['keep_filters'])\n",
    "print(\"Filters to prune: \", data_dict['remove_filters'])\n",
    "print(data_dict['weights_wo_reconst'].shape)\n",
    "print(data_dict['weights_reconst'].shape)"
   ]
  },
  {
   "cell_type": "code",
   "execution_count": null,
   "metadata": {
    "collapsed": true
   },
   "outputs": [],
   "source": []
  }
 ],
 "metadata": {
  "kernelspec": {
   "display_name": "Python 3",
   "language": "python",
   "name": "python3"
  },
  "language_info": {
   "codemirror_mode": {
    "name": "ipython",
    "version": 3
   },
   "file_extension": ".py",
   "mimetype": "text/x-python",
   "name": "python",
   "nbconvert_exporter": "python",
   "pygments_lexer": "ipython3",
   "version": "3.5.4"
  }
 },
 "nbformat": 4,
 "nbformat_minor": 2
}
