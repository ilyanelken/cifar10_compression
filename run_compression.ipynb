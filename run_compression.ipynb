{
 "cells": [
  {
   "cell_type": "code",
   "execution_count": null,
   "metadata": {
    "collapsed": true
   },
   "outputs": [],
   "source": [
    "%load_ext autoreload\n",
    "%autoreload 2\n",
    "\n",
    "import numpy as np\n",
    "import matplotlib.pyplot as plt\n",
    "\n",
    "from Thinet import Thinet\n",
    "from DataManager import load_data_from_file"
   ]
  },
  {
   "cell_type": "code",
   "execution_count": null,
   "metadata": {},
   "outputs": [],
   "source": [
    "data = load_data_from_file(r'./data/cifar10_features_5000.npz')"
   ]
  },
  {
   "cell_type": "markdown",
   "metadata": {},
   "source": [
    "Compute compression"
   ]
  },
  {
   "cell_type": "code",
   "execution_count": null,
   "metadata": {
    "scrolled": false
   },
   "outputs": [],
   "source": [
    "input_map  = data['conv2_input']    # (5000,12,12,64)\n",
    "weights    = data['conv2_weights']  # (5,5,3,64)\n",
    "output_map = data['conv2_output']   # (5000,12,12,64)\n",
    "#rates      = [0.75, 0.5, 0.375, 0.25, 0.125, 0.0625]\n",
    "rates       = [0.25]\n",
    "num_points = 50\n",
    "\n",
    "for rate in rates:\n",
    "    thinet = Thinet(input_map, weights, output_map, rate)\n",
    "\n",
    "    thinet.compress(num_points)\n",
    "\n",
    "    output_file = r'./data/compression/thinet_compression_%d_test.npy' % (rate * 64)\n",
    "    thinet.save_data_to_file(output_file)\n",
    "    print(\"Saved to: %s\" % output_file)"
   ]
  },
  {
   "cell_type": "code",
   "execution_count": null,
   "metadata": {
    "collapsed": true
   },
   "outputs": [],
   "source": [
    "rate = 0.5\n",
    "data_dict = np.load(r'./data/compression/thinet_compression_%d_test.npy' % (rate * 64)).item()\n",
    "print(\"Filters to keep: \", data_dict['keep_filters'])\n",
    "print(\"Filters to prune: \", data_dict['remove_filters'])\n",
    "print(data_dict['weights_wo_reconst'].shape)\n",
    "print(data_dict['weights_reconst'].shape)"
   ]
  },
  {
   "cell_type": "markdown",
   "metadata": {
    "collapsed": true
   },
   "source": [
    "Apply compression"
   ]
  },
  {
   "cell_type": "code",
   "execution_count": null,
   "metadata": {
    "collapsed": true,
    "scrolled": true
   },
   "outputs": [],
   "source": [
    "# Just some dummy data for Thinet creation\n",
    "input_map  = data['conv2_input']    # (5000,12,12,64)\n",
    "weights    = data['conv2_weights']  # (5,5,3,64)\n",
    "output_map = data['conv2_output']   # (5000,12,12,64)\n",
    "rates      = [0.75, 0.5, 0.375, 0.25, 0.125, 0.0625]\n",
    "\n",
    "model_64_file = r'./data/models/model_64.npy'\n",
    "for rate in rates:\n",
    "    compression_data_file = r'./data/compression/thinet_compression_%d.npy' % (rate * 64)\n",
    "    \n",
    "    # Without reconstruction\n",
    "    model_compressed_file = r'./data/models/model_compressed_%d.npy' % (rate * 64)\n",
    "    thinet = Thinet(input_map, weights, output_map, rate)\n",
    "    thinet.load_data_from_file(compression_data_file)\n",
    "    thinet.update_model(model_64_file, model_compressed_file, False)\n",
    "    \n",
    "    # With reconstruction\n",
    "    model_compressed_file = r'./data/models/model_compressed_reconst_%d.npy' % (rate * 64)\n",
    "    thinet = Thinet(input_map, weights, output_map, rate)\n",
    "    thinet.load_data_from_file(compression_data_file)\n",
    "    thinet.update_model(model_64_file, model_compressed_file, True)"
   ]
  }
 ],
 "metadata": {
  "kernelspec": {
   "display_name": "Python 3",
   "language": "python",
   "name": "python3"
  },
  "language_info": {
   "codemirror_mode": {
    "name": "ipython",
    "version": 3
   },
   "file_extension": ".py",
   "mimetype": "text/x-python",
   "name": "python",
   "nbconvert_exporter": "python",
   "pygments_lexer": "ipython3",
   "version": "3.5.4"
  }
 },
 "nbformat": 4,
 "nbformat_minor": 2
}
